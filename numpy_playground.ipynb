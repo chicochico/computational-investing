{
 "cells": [
  {
   "cell_type": "markdown",
   "metadata": {},
   "source": [
    "# Numpy Tutorial"
   ]
  },
  {
   "cell_type": "markdown",
   "metadata": {},
   "source": [
    "## Simple Numpy example"
   ]
  },
  {
   "cell_type": "code",
   "execution_count": 5,
   "metadata": {
    "scrolled": true
   },
   "outputs": [
    {
     "name": "stdout",
     "output_type": "stream",
     "text": [
      "[25.3, 24.8, 26.9, 23.9]\n"
     ]
    }
   ],
   "source": [
    "import numpy as np\n",
    "\n",
    "# list of values e.g temperature in celcius\n",
    "cvalues = [25.3, 24.8, 26.9, 23.9]\n",
    "print(cvalues)"
   ]
  },
  {
   "cell_type": "code",
   "execution_count": 6,
   "metadata": {
    "scrolled": true
   },
   "outputs": [
    {
     "name": "stdout",
     "output_type": "stream",
     "text": [
      "[ 25.3  24.8  26.9  23.9]\n"
     ]
    }
   ],
   "source": [
    "# transform list to one-dimensional numpy-array\n",
    "C = np.array(cvalues)\n",
    "print(C)"
   ]
  },
  {
   "cell_type": "code",
   "execution_count": 7,
   "metadata": {},
   "outputs": [
    {
     "name": "stdout",
     "output_type": "stream",
     "text": [
      "[ 77.54  76.64  80.42  75.02]\n"
     ]
    }
   ],
   "source": [
    "# turn values into farenheit using numpy\n",
    "print(C * 9 / 5 + 32)"
   ]
  },
  {
   "cell_type": "code",
   "execution_count": null,
   "metadata": {
    "collapsed": true
   },
   "outputs": [],
   "source": [
    "# vs normal python\n",
    "fvalues = [x*9/5 + 32 for x in cvalues]\n",
    "print(fvalues)"
   ]
  },
  {
   "cell_type": "markdown",
   "metadata": {},
   "source": [
    "## Creation of evenly spaced values"
   ]
  },
  {
   "cell_type": "markdown",
   "metadata": {},
   "source": [
    "### arange"
   ]
  },
  {
   "cell_type": "code",
   "execution_count": 10,
   "metadata": {},
   "outputs": [
    {
     "name": "stdout",
     "output_type": "stream",
     "text": [
      "[1 2 3 4 5 6 7 8 9]\n"
     ]
    }
   ],
   "source": [
    "a = np.arange(1, 10)\n",
    "print(a)"
   ]
  },
  {
   "cell_type": "code",
   "execution_count": 12,
   "metadata": {},
   "outputs": [
    {
     "name": "stdout",
     "output_type": "stream",
     "text": [
      "range(1, 10)\n"
     ]
    }
   ],
   "source": [
    "# vs range\n",
    "x = range(1, 10)\n",
    "print(x)"
   ]
  },
  {
   "cell_type": "code",
   "execution_count": 13,
   "metadata": {},
   "outputs": [
    {
     "name": "stdout",
     "output_type": "stream",
     "text": [
      "[1, 2, 3, 4, 5, 6, 7, 8, 9]\n"
     ]
    }
   ],
   "source": [
    "print(list(x))"
   ]
  },
  {
   "cell_type": "code",
   "execution_count": 15,
   "metadata": {},
   "outputs": [
    {
     "name": "stdout",
     "output_type": "stream",
     "text": [
      "[  0.   1.   2.   3.   4.   5.   6.   7.   8.   9.  10.]\n"
     ]
    }
   ],
   "source": [
    "x = np.arange(10.4)\n",
    "print(x)"
   ]
  },
  {
   "cell_type": "code",
   "execution_count": 16,
   "metadata": {},
   "outputs": [
    {
     "name": "stdout",
     "output_type": "stream",
     "text": [
      "[  0.5   1.3   2.1   2.9   3.7   4.5   5.3   6.1   6.9   7.7   8.5   9.3\n",
      "  10.1]\n"
     ]
    }
   ],
   "source": [
    "x = np.arange(0.5, 10.4, 0.8)\n",
    "print(x)"
   ]
  },
  {
   "cell_type": "code",
   "execution_count": 17,
   "metadata": {},
   "outputs": [
    {
     "name": "stdout",
     "output_type": "stream",
     "text": [
      "[ 0  1  2  3  4  5  6  7  8  9 10 11 12]\n"
     ]
    }
   ],
   "source": [
    "x = np.arange(0.5, 10.4, 0.8, int)\n",
    "print(x)"
   ]
  },
  {
   "cell_type": "markdown",
   "metadata": {},
   "source": [
    "### linspace"
   ]
  },
  {
   "cell_type": "code",
   "execution_count": 18,
   "metadata": {},
   "outputs": [
    {
     "name": "stdout",
     "output_type": "stream",
     "text": [
      "[  1.           1.18367347   1.36734694   1.55102041   1.73469388\n",
      "   1.91836735   2.10204082   2.28571429   2.46938776   2.65306122\n",
      "   2.83673469   3.02040816   3.20408163   3.3877551    3.57142857\n",
      "   3.75510204   3.93877551   4.12244898   4.30612245   4.48979592\n",
      "   4.67346939   4.85714286   5.04081633   5.2244898    5.40816327\n",
      "   5.59183673   5.7755102    5.95918367   6.14285714   6.32653061\n",
      "   6.51020408   6.69387755   6.87755102   7.06122449   7.24489796\n",
      "   7.42857143   7.6122449    7.79591837   7.97959184   8.16326531\n",
      "   8.34693878   8.53061224   8.71428571   8.89795918   9.08163265\n",
      "   9.26530612   9.44897959   9.63265306   9.81632653  10.        ]\n"
     ]
    }
   ],
   "source": [
    "# 50 values between 1 and 10\n",
    "print(np.linspace(1, 10))"
   ]
  },
  {
   "cell_type": "code",
   "execution_count": 19,
   "metadata": {},
   "outputs": [
    {
     "name": "stdout",
     "output_type": "stream",
     "text": [
      "[  1.    2.5   4.    5.5   7.    8.5  10. ]\n"
     ]
    }
   ],
   "source": [
    "# 7 values between 1 and 10\n",
    "print(np.linspace(1, 10, 7))"
   ]
  },
  {
   "cell_type": "code",
   "execution_count": 21,
   "metadata": {},
   "outputs": [
    {
     "name": "stdout",
     "output_type": "stream",
     "text": [
      "[ 1.          2.28571429  3.57142857  4.85714286  6.14285714  7.42857143\n",
      "  8.71428571]\n"
     ]
    }
   ],
   "source": [
    "# excluding endpoint\n",
    "print(np.linspace(1, 10, 7, endpoint=False))"
   ]
  },
  {
   "cell_type": "code",
   "execution_count": 22,
   "metadata": {},
   "outputs": [
    {
     "name": "stdout",
     "output_type": "stream",
     "text": [
      "0.183673469388\n"
     ]
    }
   ],
   "source": [
    "# returning the spacing between values\n",
    "samples, spacing = np.linspace(1, 10, retstep=True)\n",
    "print(spacing)"
   ]
  },
  {
   "cell_type": "code",
   "execution_count": 24,
   "metadata": {},
   "outputs": [
    {
     "name": "stdout",
     "output_type": "stream",
     "text": [
      "0.473684210526\n"
     ]
    }
   ],
   "source": [
    "samples, spacing = np.linspace(1, 10, 20, retstep=True)\n",
    "print(spacing)"
   ]
  },
  {
   "cell_type": "markdown",
   "metadata": {},
   "source": [
    "## Time comparison between Python lists and numpy Arrays"
   ]
  },
  {
   "cell_type": "code",
   "execution_count": 29,
   "metadata": {
    "collapsed": true
   },
   "outputs": [],
   "source": [
    "import time\n",
    "\n",
    "size_of_vec = 1000\n",
    "\n",
    "def pure_python_version():\n",
    "    t1 = time.time()\n",
    "    X = range(size_of_vec)\n",
    "    Y = range(size_of_vec)\n",
    "    Z = []\n",
    "    for i in range(len(X)):\n",
    "        Z.append(X[i] + Y[i])\n",
    "    return time.time() - t1\n",
    "\n",
    "def numpy_version():\n",
    "    t1 = time.time()\n",
    "    X = np.arange(size_of_vec)\n",
    "    Y = np.arange(size_of_vec)\n",
    "    Z = X + Y\n",
    "    return time.time() - t1\n",
    "\n",
    "t1 = pure_python_version()\n",
    "t2 = numpy_version()"
   ]
  },
  {
   "cell_type": "code",
   "execution_count": 30,
   "metadata": {},
   "outputs": [
    {
     "name": "stdout",
     "output_type": "stream",
     "text": [
      "python: 0.0007901191711425781\n",
      "numpy: 7.581710815429688e-05\n",
      "numpy is 10.421383647798741 faster than python\n"
     ]
    }
   ],
   "source": [
    "print('python: {}'.format(t1))\n",
    "print('numpy: {}'.format(t2))\n",
    "print('numpy is {} faster than python'.format(t1/t2))"
   ]
  },
  {
   "cell_type": "markdown",
   "metadata": {},
   "source": [
    "### Measuring time with timeit module"
   ]
  },
  {
   "cell_type": "code",
   "execution_count": 31,
   "metadata": {},
   "outputs": [
    {
     "name": "stdout",
     "output_type": "stream",
     "text": [
      "0.005276263982523233\n",
      "0.0005645760102197528\n"
     ]
    }
   ],
   "source": [
    "from timeit import Timer\n",
    "\n",
    "size_of_vec = 1000\n",
    "\n",
    "def pure_python_version():\n",
    "    X = range(size_of_vec)\n",
    "    Y = range(size_of_vec)\n",
    "    Z = []\n",
    "    for i in range(len(X)):\n",
    "        Z.append(X[i] + Y[i])\n",
    "\n",
    "def numpy_version():\n",
    "    X = np.arange(size_of_vec)\n",
    "    Y = np.arange(size_of_vec)\n",
    "    Z = X + Y\n",
    "\n",
    "# timer_obj = Timer('x = x + 1', 'x = 0')\n",
    "timer_obj1 = Timer('pure_python_version()', 'from __main__ import pure_python_version')\n",
    "timer_obj2 = Timer('numpy_version()', 'from __main__ import numpy_version')\n",
    "print(timer_obj1.timeit(10))\n",
    "print(timer_obj2.timeit(10))"
   ]
  },
  {
   "cell_type": "markdown",
   "metadata": {},
   "source": [
    "## Creating arrays"
   ]
  },
  {
   "cell_type": "markdown",
   "metadata": {},
   "source": [
    "### Zero-dimensional arrays in numpy"
   ]
  },
  {
   "cell_type": "code",
   "execution_count": 32,
   "metadata": {},
   "outputs": [
    {
     "name": "stdout",
     "output_type": "stream",
     "text": [
      "42\n",
      "the type of x:  <class 'numpy.ndarray'>\n",
      "the dimension of x:  0\n"
     ]
    }
   ],
   "source": [
    "x = np.array(42)\n",
    "print(x)\n",
    "print('the type of x: ', type(x))\n",
    "print('the dimension of x: ', np.ndim(x))"
   ]
  },
  {
   "cell_type": "markdown",
   "metadata": {},
   "source": [
    "### One-dimensional arrays"
   ]
  },
  {
   "cell_type": "code",
   "execution_count": 33,
   "metadata": {},
   "outputs": [
    {
     "name": "stdout",
     "output_type": "stream",
     "text": [
      "F:  [ 1  1  2  3  5  8 13 21]\n",
      "V:  [  3.4   6.9  99.8  12.8]\n",
      "type of F:  int64\n",
      "type of V:  float64\n",
      "dimensions of F:  1\n",
      "dimensions of V:  1\n"
     ]
    }
   ],
   "source": [
    "F = np.array([1, 1, 2, 3, 5, 8, 13, 21])\n",
    "V = np.array([3.4, 6.9, 99.8, 12.8])\n",
    "print('F: ', F)\n",
    "print('V: ', V)\n",
    "print('type of F: ', F.dtype)\n",
    "print('type of V: ', V.dtype)\n",
    "print('dimensions of F: ', np.ndim(F))\n",
    "print('dimensions of V: ', np.ndim(V))"
   ]
  },
  {
   "cell_type": "markdown",
   "metadata": {},
   "source": [
    "### Two and Multidimensional arrays"
   ]
  },
  {
   "cell_type": "code",
   "execution_count": 34,
   "metadata": {},
   "outputs": [
    {
     "name": "stdout",
     "output_type": "stream",
     "text": [
      "[[  3.4   8.7   9.9]\n",
      " [  1.1  -7.8  -0.7]\n",
      " [  4.1  12.3   4.8]]\n",
      "2\n"
     ]
    }
   ],
   "source": [
    "A = np.array([\n",
    "    [3.4, 8.7, 9.9],\n",
    "    [1.1, -7.8, -0.7],\n",
    "    [4.1, 12.3, 4.8],\n",
    "])\n",
    "\n",
    "print(A)\n",
    "print(A.ndim)"
   ]
  },
  {
   "cell_type": "markdown",
   "metadata": {},
   "source": [
    "## Shape of an array"
   ]
  },
  {
   "cell_type": "code",
   "execution_count": 35,
   "metadata": {},
   "outputs": [
    {
     "name": "stdout",
     "output_type": "stream",
     "text": [
      "(6, 3)\n"
     ]
    }
   ],
   "source": [
    "x = np.array([ [67, 63, 87],\n",
    "               [77, 69, 59],\n",
    "               [85, 87, 99],\n",
    "               [79, 72, 71],\n",
    "               [63, 89, 93],\n",
    "               [68, 92, 78]])\n",
    "print(np.shape(x))"
   ]
  },
  {
   "cell_type": "code",
   "execution_count": 36,
   "metadata": {},
   "outputs": [
    {
     "name": "stdout",
     "output_type": "stream",
     "text": [
      "(6, 3)\n"
     ]
    }
   ],
   "source": [
    "print(x.shape)"
   ]
  },
  {
   "cell_type": "code",
   "execution_count": 37,
   "metadata": {},
   "outputs": [
    {
     "name": "stdout",
     "output_type": "stream",
     "text": [
      "[[67 63 87 77 69 59]\n",
      " [85 87 99 79 72 71]\n",
      " [63 89 93 68 92 78]]\n"
     ]
    }
   ],
   "source": [
    "# changing shape\n",
    "x.shape = (3, 6)\n",
    "print(x)"
   ]
  },
  {
   "cell_type": "code",
   "execution_count": 38,
   "metadata": {},
   "outputs": [
    {
     "ename": "ValueError",
     "evalue": "cannot reshape array of size 18 into shape (4,4)",
     "output_type": "error",
     "traceback": [
      "\u001b[0;31m---------------------------------------------------------------------------\u001b[0m",
      "\u001b[0;31mValueError\u001b[0m                                Traceback (most recent call last)",
      "\u001b[0;32m<ipython-input-38-f22eea54422e>\u001b[0m in \u001b[0;36m<module>\u001b[0;34m()\u001b[0m\n\u001b[1;32m      1\u001b[0m \u001b[0;31m# number of elements must correspond to the original array\u001b[0m\u001b[0;34m\u001b[0m\u001b[0;34m\u001b[0m\u001b[0m\n\u001b[0;32m----> 2\u001b[0;31m \u001b[0mx\u001b[0m\u001b[0;34m.\u001b[0m\u001b[0mshape\u001b[0m \u001b[0;34m=\u001b[0m \u001b[0;34m(\u001b[0m\u001b[0;36m4\u001b[0m\u001b[0;34m,\u001b[0m \u001b[0;36m4\u001b[0m\u001b[0;34m)\u001b[0m\u001b[0;34m\u001b[0m\u001b[0m\n\u001b[0m",
      "\u001b[0;31mValueError\u001b[0m: cannot reshape array of size 18 into shape (4,4)"
     ]
    }
   ],
   "source": [
    "# number of elements must correspond to the original array\n",
    "x.shape = (4, 4)"
   ]
  },
  {
   "cell_type": "code",
   "execution_count": 39,
   "metadata": {},
   "outputs": [
    {
     "name": "stdout",
     "output_type": "stream",
     "text": [
      "()\n"
     ]
    }
   ],
   "source": [
    "# the shape of a scalar is a empty tuple\n",
    "x = np.array(11)\n",
    "print(np.shape(x))"
   ]
  },
  {
   "cell_type": "code",
   "execution_count": 40,
   "metadata": {},
   "outputs": [
    {
     "name": "stdout",
     "output_type": "stream",
     "text": [
      "(3, 2, 2)\n"
     ]
    }
   ],
   "source": [
    "B = np.array([ [[111, 112], [121, 122]],\n",
    "               [[211, 212], [221, 222]],\n",
    "               [[311, 312], [321, 322]] ])\n",
    "print(B.shape)"
   ]
  },
  {
   "cell_type": "markdown",
   "metadata": {},
   "source": [
    "## Indexing and slicing"
   ]
  },
  {
   "cell_type": "code",
   "execution_count": 41,
   "metadata": {},
   "outputs": [
    {
     "name": "stdout",
     "output_type": "stream",
     "text": [
      "1\n"
     ]
    }
   ],
   "source": [
    "F = np.array([1, 1, 2, 3, 5, 8, 13, 21])\n",
    "print(F[0])"
   ]
  },
  {
   "cell_type": "code",
   "execution_count": 42,
   "metadata": {},
   "outputs": [
    {
     "name": "stdout",
     "output_type": "stream",
     "text": [
      "21\n"
     ]
    }
   ],
   "source": [
    "print(F[-1])"
   ]
  },
  {
   "cell_type": "code",
   "execution_count": 44,
   "metadata": {},
   "outputs": [
    {
     "name": "stdout",
     "output_type": "stream",
     "text": [
      "13\n"
     ]
    }
   ],
   "source": [
    "print(F[-2])"
   ]
  },
  {
   "cell_type": "code",
   "execution_count": 45,
   "metadata": {},
   "outputs": [
    {
     "data": {
      "text/plain": [
       "8"
      ]
     },
     "execution_count": 45,
     "metadata": {},
     "output_type": "execute_result"
    }
   ],
   "source": [
    "len(F)"
   ]
  },
  {
   "cell_type": "code",
   "execution_count": 46,
   "metadata": {},
   "outputs": [
    {
     "data": {
      "text/plain": [
       "1"
      ]
     },
     "execution_count": 46,
     "metadata": {},
     "output_type": "execute_result"
    }
   ],
   "source": [
    "F[-8]"
   ]
  },
  {
   "cell_type": "code",
   "execution_count": 47,
   "metadata": {},
   "outputs": [
    {
     "ename": "IndexError",
     "evalue": "index -9 is out of bounds for axis 0 with size 8",
     "output_type": "error",
     "traceback": [
      "\u001b[0;31m---------------------------------------------------------------------------\u001b[0m",
      "\u001b[0;31mIndexError\u001b[0m                                Traceback (most recent call last)",
      "\u001b[0;32m<ipython-input-47-5cfc5d543ac4>\u001b[0m in \u001b[0;36m<module>\u001b[0;34m()\u001b[0m\n\u001b[0;32m----> 1\u001b[0;31m \u001b[0mF\u001b[0m\u001b[0;34m[\u001b[0m\u001b[0;34m-\u001b[0m\u001b[0;36m9\u001b[0m\u001b[0;34m]\u001b[0m\u001b[0;34m\u001b[0m\u001b[0m\n\u001b[0m",
      "\u001b[0;31mIndexError\u001b[0m: index -9 is out of bounds for axis 0 with size 8"
     ]
    }
   ],
   "source": [
    "F[-9]"
   ]
  }
 ],
 "metadata": {
  "kernelspec": {
   "display_name": "Python 2",
   "language": "python",
   "name": "python2"
  },
  "language_info": {
   "codemirror_mode": {
    "name": "ipython",
    "version": 2
   },
   "file_extension": ".py",
   "mimetype": "text/x-python",
   "name": "python",
   "nbconvert_exporter": "python",
   "pygments_lexer": "ipython2",
   "version": "2.7.13"
  }
 },
 "nbformat": 4,
 "nbformat_minor": 2
}
