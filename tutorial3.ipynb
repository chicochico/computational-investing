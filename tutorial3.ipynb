{
 "cells": [
  {
   "cell_type": "code",
   "execution_count": 1,
   "metadata": {
    "collapsed": true
   },
   "outputs": [],
   "source": [
    "%matplotlib inline\n",
    "\n",
    "import itertools\n",
    "\n",
    "import numpy as np\n",
    "import pandas as pd\n",
    "import matplotlib.pyplot as plt\n",
    "import datetime as dt\n",
    "\n",
    "import QSTK.qstkutil.qsdateutil as du\n",
    "import QSTK.qstkutil.tsutil as tsu\n",
    "import QSTK.qstkutil.DataAccess as da"
   ]
  },
  {
   "cell_type": "code",
   "execution_count": 3,
   "metadata": {},
   "outputs": [
    {
     "data": {
      "text/plain": [
       "array([('SPY',  0.30000001), ('GABBA',  0.2       ), ('GLD',  0.30000001),\n",
       "       ('7ABBA',  0.2       )], \n",
       "      dtype=[('f0', 'S5'), ('f1', '<f4')])"
      ]
     },
     "execution_count": 3,
     "metadata": {},
     "output_type": "execute_result"
    }
   ],
   "source": [
    "portfolios = np.loadtxt('tutorial3portfolio.csv', dtype='S5, f4',\n",
    "                      delimiter=',', comments ='#', skiprows=1)\n",
    "portfolios"
   ]
  },
  {
   "cell_type": "code",
   "execution_count": 4,
   "metadata": {},
   "outputs": [
    {
     "name": "stdout",
     "output_type": "stream",
     "text": [
      "['SPY', 'GABBA', 'GLD', '7ABBA']\n",
      "[0.30000001, 0.2, 0.30000001, 0.2]\n"
     ]
    }
   ],
   "source": [
    "symbols = []\n",
    "allocation = []\n",
    "for portfolio in portfolios:\n",
    "    symbols.append(portfolio[0])\n",
    "    allocation.append(portfolio[1])\n",
    "\n",
    "print(symbols)\n",
    "print(allocation)"
   ]
  },
  {
   "cell_type": "code",
   "execution_count": 6,
   "metadata": {},
   "outputs": [
    {
     "name": "stdout",
     "output_type": "stream",
     "text": [
      "['$DJI', '$SPX', '$VIX', 'A', 'AA', 'AAPL', 'ABC', 'ABI', 'ABKFQ', 'ABT']\n"
     ]
    }
   ],
   "source": [
    "dataobject = da.DataAccess('Yahoo')\n",
    "all_syms = dataobject.get_all_symbols()\n",
    "print(all_syms[:10])"
   ]
  },
  {
   "cell_type": "code",
   "execution_count": 7,
   "metadata": {},
   "outputs": [
    {
     "name": "stdout",
     "output_type": "stream",
     "text": [
      "['7ABBA', 'GABBA']\n"
     ]
    }
   ],
   "source": [
    "bad_syms = list(set(symbols) - set(all_syms))\n",
    "print(bad_syms)"
   ]
  },
  {
   "cell_type": "code",
   "execution_count": null,
   "metadata": {
    "collapsed": true
   },
   "outputs": [],
   "source": []
  }
 ],
 "metadata": {
  "kernelspec": {
   "display_name": "Python 2",
   "language": "python",
   "name": "python2"
  },
  "language_info": {
   "codemirror_mode": {
    "name": "ipython",
    "version": 2
   },
   "file_extension": ".py",
   "mimetype": "text/x-python",
   "name": "python",
   "nbconvert_exporter": "python",
   "pygments_lexer": "ipython2",
   "version": "2.7.13"
  }
 },
 "nbformat": 4,
 "nbformat_minor": 2
}
